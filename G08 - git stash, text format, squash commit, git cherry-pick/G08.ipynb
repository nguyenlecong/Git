{
 "cells": [
  {
   "attachments": {},
   "cell_type": "markdown",
   "metadata": {},
   "source": [
    "# git stash\n",
    "\n",
    "Git stash được sử dụng khi muốn lưu lại các thay đổi chưa commit, thường rất hữu dụng khi bạn muốn đổi sang 1 branch khác mà lại đang làm dở ở branch hiện tại."
   ]
  },
  {
   "cell_type": "code",
   "execution_count": null,
   "metadata": {},
   "outputs": [],
   "source": [
    "!git stash save \"Dang hoc git stash\"\n",
    "\n",
    "# Git stash loại bỏ những files không được theo rõi\n",
    "!git stash save -u \"Dang hoc git stash\"\n",
    "#or\n",
    "!git stash save --include-untracked"
   ]
  },
  {
   "cell_type": "code",
   "execution_count": 1,
   "metadata": {},
   "outputs": [],
   "source": [
    "!git stash list"
   ]
  },
  {
   "cell_type": "code",
   "execution_count": null,
   "metadata": {},
   "outputs": [],
   "source": [
    "# lấy stash cuối cùng (gần nhất) để apply nó vào code\n",
    "!git stash apply\n",
    "\n",
    "!git stash apply stash@{1}"
   ]
  },
  {
   "cell_type": "code",
   "execution_count": null,
   "metadata": {},
   "outputs": [],
   "source": [
    "# xoá stash đó khỏi đống stash \n",
    "!git stash pop\n",
    "\n",
    "!git stash pop stash@{1}"
   ]
  },
  {
   "cell_type": "code",
   "execution_count": null,
   "metadata": {},
   "outputs": [],
   "source": [
    "# hiện thị khá ngắn gọn những thay đổi của stash diff\n",
    "!git stash show\n",
    "\n",
    "!git stash show -p\n",
    "\n",
    "!git stash show stash@{1}"
   ]
  },
  {
   "cell_type": "code",
   "execution_count": null,
   "metadata": {},
   "outputs": [],
   "source": [
    "# Tạo một branch mới với nhưng thay đổi tương ứng trong stash gần nhất của bạn\n",
    "# và cũng xoá nó khỏi stash list như git stash pop.\n",
    "\n",
    "!git stash branch branch-draff\n",
    "\n",
    "# tạo với một stash cụ thể\n",
    "!git stash branch branch-draff stash@{1}"
   ]
  },
  {
   "cell_type": "code",
   "execution_count": null,
   "metadata": {},
   "outputs": [],
   "source": [
    "# Xoá toàn bộ stash\n",
    "!git stash clear"
   ]
  },
  {
   "cell_type": "code",
   "execution_count": null,
   "metadata": {},
   "outputs": [],
   "source": [
    "# Xoá đi stash gần nhất\n",
    "!git stash drop\n",
    "\n",
    "!git stash drop stash@{1}"
   ]
  },
  {
   "attachments": {},
   "cell_type": "markdown",
   "metadata": {},
   "source": [
    "# Branch name, message format"
   ]
  },
  {
   "cell_type": "code",
   "execution_count": null,
   "metadata": {},
   "outputs": [],
   "source": [
    "# Branch\n",
    "<type>_<issue id>_<tên issue>\n",
    "\n",
    "# Type: thể hiện mục tiêu của branch. Type có thể là Feature, Fix, Refactor, Test…\n",
    "# issue id (hoặc task id, story id…) đã được define trên git hay trên các trình quản lý project như redmine, trello...\n",
    "# tên issue: mô tả ngắn gọn mục đích của issue"
   ]
  },
  {
   "cell_type": "code",
   "execution_count": null,
   "metadata": {},
   "outputs": [],
   "source": [
    "# đổi tên branch với 2 command sau:\n",
    "\n",
    "# nếu ở tại branch muốn đổi tên\n",
    "!git branch -m newName\n",
    "\n",
    "# nếu đang ở branch khác\n",
    "!git branch -m oldName newName"
   ]
  },
  {
   "cell_type": "code",
   "execution_count": null,
   "metadata": {},
   "outputs": [],
   "source": [
    "# Cấu trúc commit message\n",
    "\n",
    "<type>[optional scope]: <description>\n",
    "\n",
    "[optional body]\n",
    "\n",
    "[optional footer]\n",
    "\n",
    "# type, description là bắt buộc cần có trong commit message, optional là tùy chọn, có hoặc không có cũng được.\n",
    "# type: từ khóa để phân loại commit là feature, fix bug, refactor.. Chú ý ngay sau type có dấu :\n",
    "# scope: cùng được dùng để phân loại commit, nhưng trả lời câu hỏi: commit này refactor|fix cái gì? được đặt trong cặp ngoặc đơn ngay sau type. VD: feat(authentication):, fix(parser):.\n",
    "# description: là mô tả ngắn về những gì sẽ bị sửa đổi trong commit đấy.\n",
    "# body: là mô tả dài và chi tiết hơn, cần thiết khi description chưa thể nói rõ hết được.\n",
    "# footer: một số thông tin mở rộng như số ID của pull request, issue.. được quy định theo conventional.\n",
    "\n",
    "# Example:\n",
    "#   feat: implement multi-languages\n",
    "#   fix: homepage's bug\n",
    "#   fix(player): uiza player can not initialize"
   ]
  },
  {
   "attachments": {},
   "cell_type": "markdown",
   "metadata": {},
   "source": [
    "# Squash commit"
   ]
  },
  {
   "cell_type": "code",
   "execution_count": null,
   "metadata": {},
   "outputs": [],
   "source": [
    "# Cách Gộp Nhiều commit Thành 1 commit\n",
    "!git merge --squash 'message'"
   ]
  },
  {
   "cell_type": "code",
   "execution_count": null,
   "metadata": {},
   "outputs": [],
   "source": [
    "# Gộp Nhiều commit Thành 1 commit\n",
    "! git rebase -i HEAD~~\n",
    "\n",
    "# Thay đổi ký tự pick thành squash rồi lưu lại/kết thúc."
   ]
  },
  {
   "attachments": {},
   "cell_type": "markdown",
   "metadata": {},
   "source": [
    "# Git cherry-pick\n",
    "Là một cách để checkout 1 commit bất kỳ tại 1 branch được chỉ định về branch hiện tại. Hay chính là git cherry-pick sẽ bốc thay đổi của 1 commit trên 1 nhánh nào đó áp dụng vào nhánh hiện tại."
   ]
  },
  {
   "cell_type": "code",
   "execution_count": null,
   "metadata": {},
   "outputs": [],
   "source": [
    "!git cherry-pick [--edit] [-n] [-m parent-number] [-s] [-x] [--ff] [-S[<keyid>]] <commit>…\n",
    "\n",
    "!git cherry-pick --continue\n",
    "\n",
    "!git cherry-pick --quit\n",
    "\n",
    "!git cherry-pick --abort"
   ]
  },
  {
   "cell_type": "code",
   "execution_count": null,
   "metadata": {},
   "outputs": [],
   "source": [
    "# Nếu muốn thêm 1 vài commit, không liên tục\n",
    "!git cherry-pick commit_id1 commit_id3\n",
    "\n",
    "# Nếu muốn thêm 1 loạt commit lần lượt cạnh nhau\n",
    "!git cherry-pick commit_id1...commit_id5\n",
    "\n",
    "# Với code trên, thì  commit_id1 sẽ ko được thêm vào\n",
    "# Để đưa commit được tính vào trong branch muốn thêm thì \n",
    "!git cherry-pick commit_id1^..commit_id5"
   ]
  },
  {
   "cell_type": "code",
   "execution_count": null,
   "metadata": {},
   "outputs": [],
   "source": [
    "#1 lần commit cho cả 2 branches\n",
    "#Commit A cần apply cho 2 branchres là branch-X và branch-Y\n",
    "\n",
    "# Đang ở branch-X, thực hiện commit để tạo ra commit A\n",
    "!git add -A\n",
    "!git commit -m \" finish commit A\"\n",
    "\n",
    "# Checkout sang branch Y và dùng cherry-pick nào\n",
    "!git checkout branch-Y\n",
    "!git cherry-pick branch-X"
   ]
  }
 ],
 "metadata": {
  "kernelspec": {
   "display_name": "Python 3",
   "language": "python",
   "name": "python3"
  },
  "language_info": {
   "codemirror_mode": {
    "name": "ipython",
    "version": 3
   },
   "file_extension": ".py",
   "mimetype": "text/x-python",
   "name": "python",
   "nbconvert_exporter": "python",
   "pygments_lexer": "ipython3",
   "version": "3.8.10"
  },
  "orig_nbformat": 4
 },
 "nbformat": 4,
 "nbformat_minor": 2
}
