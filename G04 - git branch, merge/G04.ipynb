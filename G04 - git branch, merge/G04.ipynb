{
 "cells": [
  {
   "cell_type": "code",
   "execution_count": null,
   "metadata": {},
   "outputs": [],
   "source": [
    "# tao nhanh, noi dung tuong ung voi commit cuoi\n",
    "!git branch alpha"
   ]
  },
  {
   "cell_type": "code",
   "execution_count": 5,
   "metadata": {},
   "outputs": [
    {
     "name": "stdout",
     "output_type": "stream",
     "text": [
      "  alpha\n",
      "* main\n"
     ]
    }
   ],
   "source": [
    "!git branch"
   ]
  },
  {
   "cell_type": "code",
   "execution_count": 6,
   "metadata": {},
   "outputs": [
    {
     "name": "stderr",
     "output_type": "stream",
     "text": [
      "Switched to branch 'alpha'\n"
     ]
    }
   ],
   "source": [
    "!git checkout alpha  # switch"
   ]
  },
  {
   "cell_type": "code",
   "execution_count": 11,
   "metadata": {},
   "outputs": [
    {
     "name": "stdout",
     "output_type": "stream",
     "text": [
      "90c7870 git reset\n",
      "7ebee1a Basic command\n",
      "62f97c1 Introduction\n"
     ]
    }
   ],
   "source": [
    "!git log --oneline"
   ]
  },
  {
   "cell_type": "code",
<<<<<<< HEAD
   "execution_count": 12,
=======
   "execution_count": null,
>>>>>>> a0de16760dc38873d3fb404c9a6701746d19c250
   "metadata": {},
   "outputs": [],
   "source": [
    "!git add ."
   ]
<<<<<<< HEAD
  },
  {
   "cell_type": "code",
   "execution_count": 16,
   "metadata": {},
   "outputs": [
    {
     "name": "stdout",
     "output_type": "stream",
     "text": [
      "[alpha a0de167] 'alpha'\n",
      " 1 file changed, 99 insertions(+)\n",
      " create mode 100644 G04 - git branch, merge/G04.ipynb\n"
     ]
    }
   ],
   "source": [
    "!git commit -m 'alpha'"
   ]
  },
  {
   "cell_type": "code",
   "execution_count": 19,
   "metadata": {},
   "outputs": [
    {
     "name": "stdout",
     "output_type": "stream",
     "text": [
      "branch 'alpha' set up to track 'origin/alpha'.\n"
     ]
    },
    {
     "name": "stderr",
     "output_type": "stream",
     "text": [
      "remote: Resolving deltas:   0% (0/1)        \n",
      "remote: Resolving deltas: 100% (1/1)        \n",
      "remote: Resolving deltas: 100% (1/1), completed with 1 local object.        \n",
      "remote: \n",
      "remote: Create a pull request for 'alpha' on GitHub by visiting:        \n",
      "remote:      https://github.com/nguyenlecong/git_github_gitlab/pull/new/alpha        \n",
      "remote: \n",
      "To https://github.com/nguyenlecong/git_github_gitlab.git\n",
      " * [new branch]      alpha -> alpha\n"
     ]
    }
   ],
   "source": [
    "!git push --set-upstream origin alpha"
   ]
=======
>>>>>>> a0de16760dc38873d3fb404c9a6701746d19c250
  }
 ],
 "metadata": {
  "kernelspec": {
   "display_name": "Python 3",
   "language": "python",
   "name": "python3"
  },
  "language_info": {
   "codemirror_mode": {
    "name": "ipython",
    "version": 3
   },
   "file_extension": ".py",
   "mimetype": "text/x-python",
   "name": "python",
   "nbconvert_exporter": "python",
   "pygments_lexer": "ipython3",
   "version": "3.7.6"
  },
  "orig_nbformat": 4
 },
 "nbformat": 4,
 "nbformat_minor": 2
}
